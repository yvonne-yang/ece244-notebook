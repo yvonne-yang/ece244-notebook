{
 "cells": [
  {
   "cell_type": "markdown",
   "metadata": {},
   "source": [
    "# ECE244 Programming Fundamentals Notes  \n",
    "&nbsp;&nbsp;&nbsp;&nbsp;Yvonne Yang | University of Toronto | 2020 Fall  \n",
    "\n",
    "---  \n",
    "<br>  \n",
    "\n",
    "## How to use this notebook\n",
    "Welcome! In this magic notebook, you can execute pieces of C++ code without declaring classes.  \n",
    "  \n",
    "To start, move to the next cell and press \\<Shift+Enter> to execute it. \n"
   ]
  },
  {
   "cell_type": "code",
   "execution_count": 10,
   "metadata": {},
   "outputs": [
    {
     "name": "stdout",
     "output_type": "stream",
     "text": [
      "hello world"
     ]
    }
   ],
   "source": [
    "std::cout<<\"hello world\";"
   ]
  },
  {
   "cell_type": "code",
   "execution_count": null,
   "metadata": {},
   "outputs": [],
   "source": []
  }
 ],
 "metadata": {
  "ipub": {
   "globals": {
    "font-family": "Georgia"
   },
   "toc": {
    "depth": 2
   }
  },
  "kernelspec": {
   "display_name": "C++11",
   "language": "C++11",
   "name": "xcpp11"
  },
  "language_info": {
   "codemirror_mode": "text/x-c++src",
   "file_extension": ".cpp",
   "mimetype": "text/x-c++src",
   "name": "c++",
   "version": "11"
  }
 },
 "nbformat": 4,
 "nbformat_minor": 4
}
