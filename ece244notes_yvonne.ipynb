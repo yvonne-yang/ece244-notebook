{
 "cells": [
  {
   "cell_type": "markdown",
   "metadata": {},
   "source": [
    "# <big>Complete Notes</big><br>ECE244 : Programming Fundamentals\n",
    "\n",
    "&nbsp;&nbsp;&nbsp; Yvonne Yang\n",
    "&nbsp;&nbsp;&nbsp;|&nbsp;&nbsp;&nbsp; University of Toronto\n",
    "&nbsp;&nbsp;&nbsp;|&nbsp;&nbsp;&nbsp; Last updated: 2020/09/15 \n",
    "\n",
    "---  \n",
    "\n",
    "## How to use this notebook\n",
    "Welcome to the ECE244 notebook.  \n",
    "\n",
    "In this magic notebook, you will see notes as well as pieces of C++ code that you can interact with.  \n",
    "\n",
    "To start, move to the next cell and press \\<Shift+Enter> to execute it. \n",
    "\n",
    "*<small> *Note: It is crucial to run this set-up cell before you test out anything else on this notebook, as it imports the necessary libraries.*</small>"
   ]
  },
  {
   "cell_type": "code",
   "execution_count": 1,
   "metadata": {},
   "outputs": [],
   "source": [
    "/*** Set up this notebook ***/\n",
    "#pragma once\n",
    "#include <iostream>\n",
    "#include <string>\n",
    "using namespace std;"
   ]
  },
  {
   "cell_type": "markdown",
   "metadata": {},
   "source": [
    "Thanks to Jupyter Notebook and Xeus Cling, we can do many interesting things here.  \n",
    "You will never have to go through the pain of making files and projects just to output \"hello world\". You can print it directly (see next cell). You can declare variables and play with them. You can also do fast computations here, treating the notebook as a calculator.  \n",
    "Test these out below.  \n",
    "<br>*<small>\n",
    "*Note: Even here, C++ does not allow duplicate definitions of variables. It's good practice to use braces to make an anonymous cell with temporary variables so that it can be run multiple times.*\n",
    "</small>"
   ]
  },
  {
   "cell_type": "code",
   "execution_count": 2,
   "metadata": {},
   "outputs": [
    {
     "name": "stdout",
     "output_type": "stream",
     "text": [
      "hello world"
     ]
    }
   ],
   "source": [
    "cout << \"hello world\";"
   ]
  },
  {
   "cell_type": "code",
   "execution_count": 3,
   "metadata": {},
   "outputs": [
    {
     "name": "stdout",
     "output_type": "stream",
     "text": [
      "Your variable ece = 244"
     ]
    }
   ],
   "source": [
    "{\n",
    "    int ece = 244;\n",
    "    cout << \"Your variable ece = \" << ece;\n",
    "}"
   ]
  },
  {
   "cell_type": "code",
   "execution_count": 4,
   "metadata": {},
   "outputs": [
    {
     "data": {
      "text/plain": [
       "10.397208"
      ]
     },
     "execution_count": 4,
     "metadata": {},
     "output_type": "execute_result"
    }
   ],
   "source": [
    "log(1024*32) // Computations"
   ]
  },
  {
   "cell_type": "markdown",
   "metadata": {},
   "source": [
    "## 09/15 - Introduction to C++  \n",
    "---\n",
    "### An example program \n",
    "A standard cpp program is shown here:\n",
    "```cpp\n",
    "#include <iostream>\n",
    "using namespace std;\n",
    "\n",
    "int main () {\n",
    "    cout << \"Hello world!\" << endl; // see below\n",
    "    return (0);\n",
    "}\n",
    "\n",
    "// Recall that in C this is equivalent to \n",
    "// printf(\"Hello World!\\n\");\n",
    "```\n",
    "*<small>\n",
    "*Note: This main method won't run here but will run in a separate .cpp file.*  \n",
    "</small>\n",
    "\n",
    "Explanations of the above program \n",
    "- `<iostream>` is the standard I/O library for cpp. Notice the use of angle brackets and the ommission of the \".h\"\n",
    "- `namespace` is a container for names; allows code to flow without conflict of variable names from diff programs. `namespace std` allows us to use functions like `cout` and `endl` without having to write `std::cout` and `std::endl` every time.\n",
    "- `main` function is the entry point of the program\n",
    "- `cout` stands for console output, `cin` is console input\n",
    "- `<<` is called an \"insertion operator\", for now, think of it as \"send to\"\n",
    "- `endl` indicates end of line like '\\n' in C   \n",
    "\n",
    "Test out console input and output below:"
   ]
  },
  {
   "cell_type": "code",
   "execution_count": 7,
   "metadata": {},
   "outputs": [
    {
     "name": "stdout",
     "output_type": "stream",
     "text": [
      "0\n",
      "You entered: 0"
     ]
    }
   ],
   "source": [
    "/* Enter an integer and have it outputted */\n",
    "{\n",
    "    int integer;\n",
    "    cin >> integer; // in\n",
    "    cout << \"You entered: \" << integer; // out\n",
    "}\n",
    "// equivalent to scanf (\"%d\", &integer); in C"
   ]
  },
  {
   "cell_type": "markdown",
   "metadata": {},
   "source": [
    "### Variables in C++\n",
    "- declarations are just as in C\n",
    "- there is a new type called \"bool\" for boolean values (true or false)\n",
    "```cpp\n",
    "bool coding = true;\n",
    "```\n",
    "\n",
    "The metatype **auto**  \n",
    "- a C++ keyword used in place of a type declaration so that the compiler deduces the type from the initializer\n",
    "```cpp\n",
    "auto length = 6; // the variable count automatically becomes of type int  \n",
    "auto maxLen = length; // compiler looks at count and matches maxCount to the type of count  \n",
    "auto minLen = length;\n",
    "```\n",
    "- say you create some variables of the same type, then decide to change the data type for all of them, then auto really saves time!\n",
    "```cpp\n",
    "// To change length and related variables' types, simple do:\n",
    "auto length = 6.0;\n",
    "```\n",
    "- **Warning**: cannnot use auto without initialization!"
   ]
  },
  {
   "cell_type": "markdown",
   "metadata": {},
   "source": [
    "### Expressions and statements\n",
    "- including arithmetic and logic expressions (+,/,<,etc.), if-else if-else, while, for\n",
    "- all similar to C  \n",
    "\n",
    "### Strings\n",
    "- in C, strings are character arrays and you must remember their terminating null character\n",
    "- C++ improves this by providing a data type called string (remember to `#include <string>`)  \n",
    "\n",
    "Below is a demo of functions on C++ strings:"
   ]
  },
  {
   "cell_type": "code",
   "execution_count": 8,
   "metadata": {},
   "outputs": [
    {
     "name": "stdout",
     "output_type": "stream",
     "text": [
      "I code in C\n",
      "I code in C++\n"
     ]
    }
   ],
   "source": [
    "/* C++ built-in string functions */\n",
    "string s1 = \"I code\";\n",
    "string s2 = \"in C\";\n",
    "string str = s1 + \" \" + s2; // concatenation with + operator\n",
    "cout << str << endl;\n",
    "\n",
    "if (str.find (\"C++\") == string::npos) // substring not found\n",
    "{\n",
    "    unsigned int size = str.size(); // length of string; alternatively, use str.length()\n",
    "    str.resize(size + 2, '+'); // resize string and fill the new spaces with '+'\n",
    "    cout << str << endl;\n",
    "}"
   ]
  },
  {
   "cell_type": "markdown",
   "metadata": {},
   "source": [
    "## Functions  \n",
    "- like in C, parameter is passed by value: if you pass `y` into `int foo(int v)`, then `v` becomes a copy of `y` and `foo` cannot change `y`'s value  \n",
    "\n",
    "The good ol' swap-two-variables function:  \n",
    "- in C, we have to write:  \n",
    "```c\n",
    "void swap (int* x, int* y)\n",
    "{\n",
    "    int temp = *x;\n",
    "    *x = *y;\n",
    "    *y = temp;\n",
    "}\n",
    "```  \n",
    "- syntactic sugar in C++: `void swap (int & x, int & y)` tells cpp to pass by **reference** instead of **value**. So we can simply write:  \n",
    "```cpp\n",
    "void swap (int & x, int & y)\n",
    "{\n",
    "    int temp = x;\n",
    "    x = y;\n",
    "    y = temp;\n",
    "}\n",
    "```  \n",
    "- note that this overloads the symbol `&` and is different from the reference operator `&`"
   ]
  },
  {
   "cell_type": "code",
   "execution_count": null,
   "metadata": {},
   "outputs": [],
   "source": [
    "/*** Play around! Put your code here ***/"
   ]
  }
 ],
 "metadata": {
  "ipub": {
   "globals": {
    "font-family": "Georgia"
   },
   "toc": {
    "depth": 2
   }
  },
  "kernelspec": {
   "display_name": "C++11",
   "language": "C++11",
   "name": "xcpp11"
  },
  "language_info": {
   "codemirror_mode": "text/x-c++src",
   "file_extension": ".cpp",
   "mimetype": "text/x-c++src",
   "name": "c++",
   "version": "11"
  }
 },
 "nbformat": 4,
 "nbformat_minor": 4
}
