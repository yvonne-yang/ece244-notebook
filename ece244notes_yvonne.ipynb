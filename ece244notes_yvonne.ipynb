{
 "cells": [
  {
   "cell_type": "markdown",
   "metadata": {},
   "source": [
    "# ECE244 Programming Fundamentals Notes  \n",
    "&nbsp;&nbsp;&nbsp;&nbsp;Yvonne Yang | University of Toronto | 2020 Fall  \n",
    "\n",
    "---  \n",
    "<br>  \n",
    "\n",
    "## How to use this notebook\n",
    "Welcome! In this magic notebook, you can execute pieces of C++ code without making files and projects.  \n",
    "  \n",
    "To start, move to the next cell and press \\<Shift+Enter> to execute it. \n"
   ]
  },
  {
   "cell_type": "code",
   "execution_count": 2,
   "metadata": {},
   "outputs": [
    {
     "name": "stdout",
     "output_type": "stream",
     "text": [
      "hello world"
     ]
    }
   ],
   "source": [
    "#include <iostream>\n",
    "std::cout<<\"hello world\";"
   ]
  },
  {
   "cell_type": "markdown",
   "metadata": {},
   "source": [
    "You can declare variables just like in your own program."
   ]
  },
  {
   "cell_type": "code",
   "execution_count": 3,
   "metadata": {},
   "outputs": [],
   "source": [
    "int a = 244; "
   ]
  },
  {
   "cell_type": "markdown",
   "metadata": {},
   "source": [
    "To view the value of a variable, simply put down the variable name and <Shift+Enter>. You can test this out below."
   ]
  },
  {
   "cell_type": "code",
   "execution_count": 4,
   "metadata": {},
   "outputs": [
    {
     "data": {
      "text/plain": [
       "244"
      ]
     },
     "execution_count": 4,
     "metadata": {},
     "output_type": "execute_result"
    }
   ],
   "source": [
    "a"
   ]
  },
  {
   "cell_type": "markdown",
   "metadata": {},
   "source": [
    "## 09/15 - Introduction to C++ \n",
    "### An example program \n",
    "A standard cpp program is shown below:\n",
    "```cpp\n",
    "#include <iostream>\n",
    "using namespace std;\n",
    "\n",
    "int main () {\n",
    "    cout << \"Hello world!\" << endl; // see below\n",
    "    return (0);\n",
    "}\n",
    "\n",
    "// Recall that in C this is equivalent to \n",
    "// printf(\"Hello World!\\n\");\n",
    "```\n",
    "*<small>\n",
    "*This main method won't run here but will in a separate .cpp file.\n",
    "</small>*\n",
    "<br><br>\n",
    "\n",
    "Notes  \n",
    "- main function is the entry point of the program\n",
    "- `cout` stands for console output, `cin` is console input\n",
    "- `<<` is called an \"insertion operator\", for now, think of it as \"send to\"\n",
    "- `endl` indicates end of line\n",
    "- `namespace` is a container for names; allows code to flow without conflict of same names from diff programs; `namespace std` allows us to use functions like `cout` and `endl`<br><br>\n",
    "\n",
    "Test out console input and output below:"
   ]
  },
  {
   "cell_type": "code",
   "execution_count": 8,
   "metadata": {},
   "outputs": [
    {
     "name": "stdout",
     "output_type": "stream",
     "text": [
      "2.2\n",
      "2"
     ]
    },
    {
     "data": {
      "text/plain": [
       "@0x1118a1ed0"
      ]
     },
     "execution_count": 8,
     "metadata": {},
     "output_type": "execute_result"
    }
   ],
   "source": [
    "/* Reads in an integer you type amd outputs it right back */\n",
    "int integer;\n",
    "cin >> integer; // in\n",
    "cout << integer; // out\n",
    "\n",
    "// equivalent to scanf (\"%d\", integer); in C"
   ]
  },
  {
   "cell_type": "markdown",
   "metadata": {},
   "source": [
    "- boolean values 'bool'\n",
    "///// more"
   ]
  },
  {
   "cell_type": "markdown",
   "metadata": {},
   "source": [
    "The metatype auto:  \n",
    "auto count = 6; // the variable count automatically becomes of type int  \n",
    "auto maxCount = count; // compiler looks at count and matches maxCount to the type of count  \n",
    "- say you create some variables of the same type, then change your mind later and decide to change the type of all of them, then auto really saves time!\n",
    "- warning: cannnot use auto without initialization!"
   ]
  },
  {
   "cell_type": "markdown",
   "metadata": {},
   "source": [
    "Expressions and statements\n",
    "- all similar in C  \n",
    "\n",
    "Strings\n",
    "- in C, strings are character arrays and you must remember their terminating null character\n",
    "- C++ improves this by providing a class type called string  \n",
    "///// put string functions here"
   ]
  },
  {
   "cell_type": "markdown",
   "metadata": {},
   "source": [
    "Functions\n",
    "- parameter passing is still by value: if you pass y into int squared (int v), then v becomes a copy of y and can not change y's value\n",
    "- eg. The good ol' swap-two-integer-variables function:\n",
    "  - in C, we have to write:\n",
    "  - write swap with syntactic sugar: void swap (int & x, int & y) tells cpp to pass by reference instead of value; this overloads the symbol ```&``` and is different from the reference operator"
   ]
  },
  {
   "cell_type": "code",
   "execution_count": null,
   "metadata": {},
   "outputs": [],
   "source": []
  }
 ],
 "metadata": {
  "ipub": {
   "globals": {
    "font-family": "Georgia"
   },
   "toc": {
    "depth": 2
   }
  },
  "kernelspec": {
   "display_name": "C++11",
   "language": "C++11",
   "name": "xcpp11"
  },
  "language_info": {
   "codemirror_mode": "text/x-c++src",
   "file_extension": ".cpp",
   "mimetype": "text/x-c++src",
   "name": "c++",
   "version": "11"
  }
 },
 "nbformat": 4,
 "nbformat_minor": 4
}
